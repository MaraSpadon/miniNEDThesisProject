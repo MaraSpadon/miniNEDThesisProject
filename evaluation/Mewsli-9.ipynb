{
 "cells": [
  {
   "cell_type": "code",
   "execution_count": 15,
   "id": "a95ae95f-8c05-4ccc-8c46-3cf27d7480c1",
   "metadata": {
    "tags": []
   },
   "outputs": [
    {
     "name": "stderr",
     "output_type": "stream",
     "text": [
      "100%|█████████████████████████████████████████████████████████████████████████████████████████████████████████████████████████████████████████████████████████████████████| 10/10 [00:00<00:00, 10.93it/s]\n"
     ]
    },
    {
     "data": {
      "text/html": [
       "<div>\n",
       "<style scoped>\n",
       "    .dataframe tbody tr th:only-of-type {\n",
       "        vertical-align: middle;\n",
       "    }\n",
       "\n",
       "    .dataframe tbody tr th {\n",
       "        vertical-align: top;\n",
       "    }\n",
       "\n",
       "    .dataframe thead th {\n",
       "        text-align: right;\n",
       "    }\n",
       "</style>\n",
       "<table border=\"1\" class=\"dataframe\">\n",
       "  <thead>\n",
       "    <tr style=\"text-align: right;\">\n",
       "      <th></th>\n",
       "      <th>en</th>\n",
       "      <th>ar</th>\n",
       "      <th>de</th>\n",
       "      <th>es</th>\n",
       "      <th>fa</th>\n",
       "      <th>ja</th>\n",
       "      <th>sr</th>\n",
       "      <th>ta</th>\n",
       "      <th>tr</th>\n",
       "      <th>nl</th>\n",
       "    </tr>\n",
       "  </thead>\n",
       "  <tbody>\n",
       "    <tr>\n",
       "      <th>disambig</th>\n",
       "      <td>2751</td>\n",
       "      <td>201</td>\n",
       "      <td>1907</td>\n",
       "      <td>1923</td>\n",
       "      <td>5</td>\n",
       "      <td>605</td>\n",
       "      <td>773</td>\n",
       "      <td>28</td>\n",
       "      <td>164</td>\n",
       "      <td>562</td>\n",
       "    </tr>\n",
       "    <tr>\n",
       "      <th>listpage</th>\n",
       "      <td>259</td>\n",
       "      <td>4</td>\n",
       "      <td>76</td>\n",
       "      <td>105</td>\n",
       "      <td>0</td>\n",
       "      <td>54</td>\n",
       "      <td>7</td>\n",
       "      <td>1</td>\n",
       "      <td>5</td>\n",
       "      <td>16</td>\n",
       "    </tr>\n",
       "    <tr>\n",
       "      <th>total</th>\n",
       "      <td>79258</td>\n",
       "      <td>5964</td>\n",
       "      <td>64807</td>\n",
       "      <td>55431</td>\n",
       "      <td>515</td>\n",
       "      <td>34214</td>\n",
       "      <td>35536</td>\n",
       "      <td>2683</td>\n",
       "      <td>5661</td>\n",
       "      <td>11924</td>\n",
       "    </tr>\n",
       "  </tbody>\n",
       "</table>\n",
       "</div>"
      ],
      "text/plain": [
       "             en    ar     de     es   fa     ja     sr    ta    tr     nl\n",
       "disambig   2751   201   1907   1923    5    605    773    28   164    562\n",
       "listpage    259     4     76    105    0     54      7     1     5     16\n",
       "total     79258  5964  64807  55431  515  34214  35536  2683  5661  11924"
      ]
     },
     "execution_count": 15,
     "metadata": {},
     "output_type": "execute_result"
    }
   ],
   "source": [
    "# ANNOTATION PROBLEMS\n",
    "import pathlib\n",
    "import json\n",
    "import tqdm\n",
    "import pandas as pd\n",
    "disambig = set(pd.read_csv('../data/wikidata-20211122-disambig.txt', header=None)[0])\n",
    "listpage = set(pd.read_csv('../data/wikidata-20211122-list.txt', header=None)[0])\n",
    "\n",
    "ROOT = pathlib.Path('Mewsli-9+badent')\n",
    "\n",
    "badcounts = {}\n",
    "for file in tqdm.tqdm(list(ROOT.glob('*.tsv'))):\n",
    "    lang = file.stem\n",
    "    try:\n",
    "        refs = [\n",
    "            ref\n",
    "            for _, links, text in (l.split('\\t') for l in file.open())\n",
    "            for surface, ref in json.loads(links).items()\n",
    "        ]\n",
    "    except Exception as e:\n",
    "        for i, (_, links, text) in enumerate(l.split('\\t') for l in file.open()):\n",
    "            try:\n",
    "                json.loads(links)\n",
    "            except Exception as e:\n",
    "                print(file, i, links)\n",
    "        raise e\n",
    "    \n",
    "    badcounts[lang] = {\n",
    "        'disambig': sum(1 for r in refs if r in disambig),\n",
    "        'listpage': sum(1 for r in refs if r in listpage),\n",
    "        'total': len(refs),\n",
    "    }\n",
    "pd.DataFrame(badcounts)"
   ]
  },
  {
   "cell_type": "code",
   "execution_count": 20,
   "id": "465b4464-75a9-490e-a430-74081e3548aa",
   "metadata": {},
   "outputs": [
    {
     "data": {
      "text/html": [
       "<div>\n",
       "<style scoped>\n",
       "    .dataframe tbody tr th:only-of-type {\n",
       "        vertical-align: middle;\n",
       "    }\n",
       "\n",
       "    .dataframe tbody tr th {\n",
       "        vertical-align: top;\n",
       "    }\n",
       "\n",
       "    .dataframe thead th {\n",
       "        text-align: right;\n",
       "    }\n",
       "</style>\n",
       "<table border=\"1\" class=\"dataframe\">\n",
       "  <thead>\n",
       "    <tr style=\"text-align: right;\">\n",
       "      <th></th>\n",
       "      <th>en</th>\n",
       "      <th>de</th>\n",
       "      <th>es</th>\n",
       "      <th>sr</th>\n",
       "      <th>ja</th>\n",
       "      <th>nl</th>\n",
       "      <th>ar</th>\n",
       "      <th>tr</th>\n",
       "      <th>ta</th>\n",
       "      <th>fa</th>\n",
       "    </tr>\n",
       "  </thead>\n",
       "  <tbody>\n",
       "    <tr>\n",
       "      <th>disambig</th>\n",
       "      <td>2751</td>\n",
       "      <td>1907</td>\n",
       "      <td>1923</td>\n",
       "      <td>773</td>\n",
       "      <td>605</td>\n",
       "      <td>562</td>\n",
       "      <td>201</td>\n",
       "      <td>164</td>\n",
       "      <td>28</td>\n",
       "      <td>5</td>\n",
       "    </tr>\n",
       "    <tr>\n",
       "      <th>listpage</th>\n",
       "      <td>259</td>\n",
       "      <td>76</td>\n",
       "      <td>105</td>\n",
       "      <td>7</td>\n",
       "      <td>54</td>\n",
       "      <td>16</td>\n",
       "      <td>4</td>\n",
       "      <td>5</td>\n",
       "      <td>1</td>\n",
       "      <td>0</td>\n",
       "    </tr>\n",
       "    <tr>\n",
       "      <th>total</th>\n",
       "      <td>79258</td>\n",
       "      <td>64807</td>\n",
       "      <td>55431</td>\n",
       "      <td>35536</td>\n",
       "      <td>34214</td>\n",
       "      <td>11924</td>\n",
       "      <td>5964</td>\n",
       "      <td>5661</td>\n",
       "      <td>2683</td>\n",
       "      <td>515</td>\n",
       "    </tr>\n",
       "  </tbody>\n",
       "</table>\n",
       "</div>"
      ],
      "text/plain": [
       "             en     de     es     sr     ja     nl    ar    tr    ta   fa\n",
       "disambig   2751   1907   1923    773    605    562   201   164    28    5\n",
       "listpage    259     76    105      7     54     16     4     5     1    0\n",
       "total     79258  64807  55431  35536  34214  11924  5964  5661  2683  515"
      ]
     },
     "execution_count": 20,
     "metadata": {},
     "output_type": "execute_result"
    }
   ],
   "source": [
    "pd.DataFrame(badcounts).T.sort_values('total')[::-1].T"
   ]
  },
  {
   "cell_type": "code",
   "execution_count": 40,
   "id": "6ff42e95-05e5-47dc-b985-da57f961b800",
   "metadata": {},
   "outputs": [
    {
     "name": "stderr",
     "output_type": "stream",
     "text": [
      "100%|█████████████████████████████████████████████████████████████████████████████████████████████████████████████████████████████████████████████████████████████████████| 10/10 [00:09<00:00,  1.11it/s]\n"
     ]
    },
    {
     "data": {
      "text/html": [
       "<style type=\"text/css\">\n",
       "#T_37223_row0_col0, #T_37223_row0_col1, #T_37223_row0_col2, #T_37223_row4_col5 {\n",
       "  width: 10em;\n",
       "  height: 80%;\n",
       "  background: linear-gradient(90deg,lightblue 69.1%, transparent 69.1%);\n",
       "}\n",
       "#T_37223_row0_col3 {\n",
       "  width: 10em;\n",
       "  height: 80%;\n",
       "  background: linear-gradient(90deg,lightblue 62.7%, transparent 62.7%);\n",
       "}\n",
       "#T_37223_row0_col4 {\n",
       "  width: 10em;\n",
       "  height: 80%;\n",
       "  background: linear-gradient(90deg,lightblue 61.0%, transparent 61.0%);\n",
       "}\n",
       "#T_37223_row0_col5 {\n",
       "  width: 10em;\n",
       "  height: 80%;\n",
       "  background: linear-gradient(90deg,lightblue 61.2%, transparent 61.2%);\n",
       "}\n",
       "#T_37223_row0_col6, #T_37223_row1_col6, #T_37223_row2_col6, #T_37223_row3_col6, #T_37223_row4_col6, #T_37223_row5_col6, #T_37223_row6_col6, #T_37223_row7_col6, #T_37223_row8_col6, #T_37223_row9_col6 {\n",
       "  width: 10em;\n",
       "  height: 80%;\n",
       "  background: linear-gradient(90deg,lightblue 100.0%, transparent 100.0%);\n",
       "}\n",
       "#T_37223_row1_col0, #T_37223_row1_col1, #T_37223_row1_col2 {\n",
       "  width: 10em;\n",
       "  height: 80%;\n",
       "  background: linear-gradient(90deg,lightblue 79.8%, transparent 79.8%);\n",
       "}\n",
       "#T_37223_row1_col3 {\n",
       "  width: 10em;\n",
       "  height: 80%;\n",
       "  background: linear-gradient(90deg,lightblue 65.5%, transparent 65.5%);\n",
       "}\n",
       "#T_37223_row1_col4 {\n",
       "  width: 10em;\n",
       "  height: 80%;\n",
       "  background: linear-gradient(90deg,lightblue 62.6%, transparent 62.6%);\n",
       "}\n",
       "#T_37223_row1_col5 {\n",
       "  width: 10em;\n",
       "  height: 80%;\n",
       "  background: linear-gradient(90deg,lightblue 63.4%, transparent 63.4%);\n",
       "}\n",
       "#T_37223_row2_col0, #T_37223_row2_col1, #T_37223_row2_col2 {\n",
       "  width: 10em;\n",
       "  height: 80%;\n",
       "  background: linear-gradient(90deg,lightblue 70.9%, transparent 70.9%);\n",
       "}\n",
       "#T_37223_row2_col3 {\n",
       "  width: 10em;\n",
       "  height: 80%;\n",
       "  background: linear-gradient(90deg,lightblue 59.5%, transparent 59.5%);\n",
       "}\n",
       "#T_37223_row2_col4 {\n",
       "  width: 10em;\n",
       "  height: 80%;\n",
       "  background: linear-gradient(90deg,lightblue 58.0%, transparent 58.0%);\n",
       "}\n",
       "#T_37223_row2_col5 {\n",
       "  width: 10em;\n",
       "  height: 80%;\n",
       "  background: linear-gradient(90deg,lightblue 58.2%, transparent 58.2%);\n",
       "}\n",
       "#T_37223_row3_col0, #T_37223_row3_col1, #T_37223_row3_col2 {\n",
       "  width: 10em;\n",
       "  height: 80%;\n",
       "  background: linear-gradient(90deg,lightblue 75.6%, transparent 75.6%);\n",
       "}\n",
       "#T_37223_row3_col3 {\n",
       "  width: 10em;\n",
       "  height: 80%;\n",
       "  background: linear-gradient(90deg,lightblue 54.3%, transparent 54.3%);\n",
       "}\n",
       "#T_37223_row3_col4 {\n",
       "  width: 10em;\n",
       "  height: 80%;\n",
       "  background: linear-gradient(90deg,lightblue 45.8%, transparent 45.8%);\n",
       "}\n",
       "#T_37223_row3_col5 {\n",
       "  width: 10em;\n",
       "  height: 80%;\n",
       "  background: linear-gradient(90deg,lightblue 48.2%, transparent 48.2%);\n",
       "}\n",
       "#T_37223_row4_col0, #T_37223_row4_col1, #T_37223_row4_col2 {\n",
       "  width: 10em;\n",
       "  height: 80%;\n",
       "  background: linear-gradient(90deg,lightblue 80.4%, transparent 80.4%);\n",
       "}\n",
       "#T_37223_row4_col3 {\n",
       "  width: 10em;\n",
       "  height: 80%;\n",
       "  background: linear-gradient(90deg,lightblue 70.7%, transparent 70.7%);\n",
       "}\n",
       "#T_37223_row4_col4 {\n",
       "  width: 10em;\n",
       "  height: 80%;\n",
       "  background: linear-gradient(90deg,lightblue 68.7%, transparent 68.7%);\n",
       "}\n",
       "#T_37223_row5_col0, #T_37223_row5_col1, #T_37223_row5_col2 {\n",
       "  width: 10em;\n",
       "  height: 80%;\n",
       "  background: linear-gradient(90deg,lightblue 62.8%, transparent 62.8%);\n",
       "}\n",
       "#T_37223_row5_col3 {\n",
       "  width: 10em;\n",
       "  height: 80%;\n",
       "  background: linear-gradient(90deg,lightblue 53.7%, transparent 53.7%);\n",
       "}\n",
       "#T_37223_row5_col4 {\n",
       "  width: 10em;\n",
       "  height: 80%;\n",
       "  background: linear-gradient(90deg,lightblue 52.0%, transparent 52.0%);\n",
       "}\n",
       "#T_37223_row5_col5 {\n",
       "  width: 10em;\n",
       "  height: 80%;\n",
       "  background: linear-gradient(90deg,lightblue 52.5%, transparent 52.5%);\n",
       "}\n",
       "#T_37223_row6_col0, #T_37223_row6_col1, #T_37223_row6_col2 {\n",
       "  width: 10em;\n",
       "  height: 80%;\n",
       "  background: linear-gradient(90deg,lightblue 87.4%, transparent 87.4%);\n",
       "}\n",
       "#T_37223_row6_col3 {\n",
       "  width: 10em;\n",
       "  height: 80%;\n",
       "  background: linear-gradient(90deg,lightblue 77.7%, transparent 77.7%);\n",
       "}\n",
       "#T_37223_row6_col4 {\n",
       "  width: 10em;\n",
       "  height: 80%;\n",
       "  background: linear-gradient(90deg,lightblue 75.8%, transparent 75.8%);\n",
       "}\n",
       "#T_37223_row6_col5 {\n",
       "  width: 10em;\n",
       "  height: 80%;\n",
       "  background: linear-gradient(90deg,lightblue 76.4%, transparent 76.4%);\n",
       "}\n",
       "#T_37223_row7_col0, #T_37223_row7_col1, #T_37223_row7_col2 {\n",
       "  width: 10em;\n",
       "  height: 80%;\n",
       "  background: linear-gradient(90deg,lightblue 80.2%, transparent 80.2%);\n",
       "}\n",
       "#T_37223_row7_col3 {\n",
       "  width: 10em;\n",
       "  height: 80%;\n",
       "  background: linear-gradient(90deg,lightblue 73.4%, transparent 73.4%);\n",
       "}\n",
       "#T_37223_row7_col4 {\n",
       "  width: 10em;\n",
       "  height: 80%;\n",
       "  background: linear-gradient(90deg,lightblue 71.0%, transparent 71.0%);\n",
       "}\n",
       "#T_37223_row7_col5 {\n",
       "  width: 10em;\n",
       "  height: 80%;\n",
       "  background: linear-gradient(90deg,lightblue 71.6%, transparent 71.6%);\n",
       "}\n",
       "#T_37223_row8_col0, #T_37223_row8_col1, #T_37223_row8_col2 {\n",
       "  width: 10em;\n",
       "  height: 80%;\n",
       "  background: linear-gradient(90deg,lightblue 61.4%, transparent 61.4%);\n",
       "}\n",
       "#T_37223_row8_col3 {\n",
       "  width: 10em;\n",
       "  height: 80%;\n",
       "  background: linear-gradient(90deg,lightblue 60.8%, transparent 60.8%);\n",
       "}\n",
       "#T_37223_row8_col4 {\n",
       "  width: 10em;\n",
       "  height: 80%;\n",
       "  background: linear-gradient(90deg,lightblue 55.0%, transparent 55.0%);\n",
       "}\n",
       "#T_37223_row8_col5 {\n",
       "  width: 10em;\n",
       "  height: 80%;\n",
       "  background: linear-gradient(90deg,lightblue 56.6%, transparent 56.6%);\n",
       "}\n",
       "#T_37223_row9_col0, #T_37223_row9_col1, #T_37223_row9_col2 {\n",
       "  width: 10em;\n",
       "  height: 80%;\n",
       "  background: linear-gradient(90deg,lightblue 84.5%, transparent 84.5%);\n",
       "}\n",
       "#T_37223_row9_col3 {\n",
       "  width: 10em;\n",
       "  height: 80%;\n",
       "  background: linear-gradient(90deg,lightblue 77.5%, transparent 77.5%);\n",
       "}\n",
       "#T_37223_row9_col4, #T_37223_row9_col5 {\n",
       "  width: 10em;\n",
       "  height: 80%;\n",
       "  background: linear-gradient(90deg,lightblue 77.1%, transparent 77.1%);\n",
       "}\n",
       "</style>\n",
       "<table id=\"T_37223_\">\n",
       "  <caption>Wikipedia Page Name Baseline</caption>\n",
       "  <thead>\n",
       "    <tr>\n",
       "      <th class=\"blank level0\" >&nbsp;</th>\n",
       "      <th class=\"col_heading level0 col0\" colspan=\"3\">micro</th>\n",
       "      <th class=\"col_heading level0 col3\" colspan=\"3\">macro</th>\n",
       "      <th class=\"col_heading level0 col6\" ></th>\n",
       "    </tr>\n",
       "    <tr>\n",
       "      <th class=\"blank level1\" >&nbsp;</th>\n",
       "      <th class=\"col_heading level1 col0\" >precision</th>\n",
       "      <th class=\"col_heading level1 col1\" >recall</th>\n",
       "      <th class=\"col_heading level1 col2\" >fscore</th>\n",
       "      <th class=\"col_heading level1 col3\" >precision</th>\n",
       "      <th class=\"col_heading level1 col4\" >recall</th>\n",
       "      <th class=\"col_heading level1 col5\" >fscore</th>\n",
       "      <th class=\"col_heading level1 col6\" >support</th>\n",
       "    </tr>\n",
       "  </thead>\n",
       "  <tbody>\n",
       "    <tr>\n",
       "      <th id=\"T_37223_level0_row0\" class=\"row_heading level0 row0\" >en</th>\n",
       "      <td id=\"T_37223_row0_col0\" class=\"data row0 col0\" >0.69</td>\n",
       "      <td id=\"T_37223_row0_col1\" class=\"data row0 col1\" >0.69</td>\n",
       "      <td id=\"T_37223_row0_col2\" class=\"data row0 col2\" >0.69</td>\n",
       "      <td id=\"T_37223_row0_col3\" class=\"data row0 col3\" >0.63</td>\n",
       "      <td id=\"T_37223_row0_col4\" class=\"data row0 col4\" >0.61</td>\n",
       "      <td id=\"T_37223_row0_col5\" class=\"data row0 col5\" >0.61</td>\n",
       "      <td id=\"T_37223_row0_col6\" class=\"data row0 col6\" >76255.00</td>\n",
       "    </tr>\n",
       "    <tr>\n",
       "      <th id=\"T_37223_level0_row1\" class=\"row_heading level0 row1\" >de</th>\n",
       "      <td id=\"T_37223_row1_col0\" class=\"data row1 col0\" >0.80</td>\n",
       "      <td id=\"T_37223_row1_col1\" class=\"data row1 col1\" >0.80</td>\n",
       "      <td id=\"T_37223_row1_col2\" class=\"data row1 col2\" >0.80</td>\n",
       "      <td id=\"T_37223_row1_col3\" class=\"data row1 col3\" >0.65</td>\n",
       "      <td id=\"T_37223_row1_col4\" class=\"data row1 col4\" >0.63</td>\n",
       "      <td id=\"T_37223_row1_col5\" class=\"data row1 col5\" >0.63</td>\n",
       "      <td id=\"T_37223_row1_col6\" class=\"data row1 col6\" >62836.00</td>\n",
       "    </tr>\n",
       "    <tr>\n",
       "      <th id=\"T_37223_level0_row2\" class=\"row_heading level0 row2\" >es</th>\n",
       "      <td id=\"T_37223_row2_col0\" class=\"data row2 col0\" >0.71</td>\n",
       "      <td id=\"T_37223_row2_col1\" class=\"data row2 col1\" >0.71</td>\n",
       "      <td id=\"T_37223_row2_col2\" class=\"data row2 col2\" >0.71</td>\n",
       "      <td id=\"T_37223_row2_col3\" class=\"data row2 col3\" >0.60</td>\n",
       "      <td id=\"T_37223_row2_col4\" class=\"data row2 col4\" >0.58</td>\n",
       "      <td id=\"T_37223_row2_col5\" class=\"data row2 col5\" >0.58</td>\n",
       "      <td id=\"T_37223_row2_col6\" class=\"data row2 col6\" >53408.00</td>\n",
       "    </tr>\n",
       "    <tr>\n",
       "      <th id=\"T_37223_level0_row3\" class=\"row_heading level0 row3\" >sr</th>\n",
       "      <td id=\"T_37223_row3_col0\" class=\"data row3 col0\" >0.76</td>\n",
       "      <td id=\"T_37223_row3_col1\" class=\"data row3 col1\" >0.76</td>\n",
       "      <td id=\"T_37223_row3_col2\" class=\"data row3 col2\" >0.76</td>\n",
       "      <td id=\"T_37223_row3_col3\" class=\"data row3 col3\" >0.54</td>\n",
       "      <td id=\"T_37223_row3_col4\" class=\"data row3 col4\" >0.46</td>\n",
       "      <td id=\"T_37223_row3_col5\" class=\"data row3 col5\" >0.48</td>\n",
       "      <td id=\"T_37223_row3_col6\" class=\"data row3 col6\" >34756.00</td>\n",
       "    </tr>\n",
       "    <tr>\n",
       "      <th id=\"T_37223_level0_row4\" class=\"row_heading level0 row4\" >ja</th>\n",
       "      <td id=\"T_37223_row4_col0\" class=\"data row4 col0\" >0.80</td>\n",
       "      <td id=\"T_37223_row4_col1\" class=\"data row4 col1\" >0.80</td>\n",
       "      <td id=\"T_37223_row4_col2\" class=\"data row4 col2\" >0.80</td>\n",
       "      <td id=\"T_37223_row4_col3\" class=\"data row4 col3\" >0.71</td>\n",
       "      <td id=\"T_37223_row4_col4\" class=\"data row4 col4\" >0.69</td>\n",
       "      <td id=\"T_37223_row4_col5\" class=\"data row4 col5\" >0.69</td>\n",
       "      <td id=\"T_37223_row4_col6\" class=\"data row4 col6\" >33557.00</td>\n",
       "    </tr>\n",
       "    <tr>\n",
       "      <th id=\"T_37223_level0_row5\" class=\"row_heading level0 row5\" >nl</th>\n",
       "      <td id=\"T_37223_row5_col0\" class=\"data row5 col0\" >0.63</td>\n",
       "      <td id=\"T_37223_row5_col1\" class=\"data row5 col1\" >0.63</td>\n",
       "      <td id=\"T_37223_row5_col2\" class=\"data row5 col2\" >0.63</td>\n",
       "      <td id=\"T_37223_row5_col3\" class=\"data row5 col3\" >0.54</td>\n",
       "      <td id=\"T_37223_row5_col4\" class=\"data row5 col4\" >0.52</td>\n",
       "      <td id=\"T_37223_row5_col5\" class=\"data row5 col5\" >0.52</td>\n",
       "      <td id=\"T_37223_row5_col6\" class=\"data row5 col6\" >11346.00</td>\n",
       "    </tr>\n",
       "    <tr>\n",
       "      <th id=\"T_37223_level0_row6\" class=\"row_heading level0 row6\" >ar</th>\n",
       "      <td id=\"T_37223_row6_col0\" class=\"data row6 col0\" >0.87</td>\n",
       "      <td id=\"T_37223_row6_col1\" class=\"data row6 col1\" >0.87</td>\n",
       "      <td id=\"T_37223_row6_col2\" class=\"data row6 col2\" >0.87</td>\n",
       "      <td id=\"T_37223_row6_col3\" class=\"data row6 col3\" >0.78</td>\n",
       "      <td id=\"T_37223_row6_col4\" class=\"data row6 col4\" >0.76</td>\n",
       "      <td id=\"T_37223_row6_col5\" class=\"data row6 col5\" >0.76</td>\n",
       "      <td id=\"T_37223_row6_col6\" class=\"data row6 col6\" >5759.00</td>\n",
       "    </tr>\n",
       "    <tr>\n",
       "      <th id=\"T_37223_level0_row7\" class=\"row_heading level0 row7\" >tr</th>\n",
       "      <td id=\"T_37223_row7_col0\" class=\"data row7 col0\" >0.80</td>\n",
       "      <td id=\"T_37223_row7_col1\" class=\"data row7 col1\" >0.80</td>\n",
       "      <td id=\"T_37223_row7_col2\" class=\"data row7 col2\" >0.80</td>\n",
       "      <td id=\"T_37223_row7_col3\" class=\"data row7 col3\" >0.73</td>\n",
       "      <td id=\"T_37223_row7_col4\" class=\"data row7 col4\" >0.71</td>\n",
       "      <td id=\"T_37223_row7_col5\" class=\"data row7 col5\" >0.72</td>\n",
       "      <td id=\"T_37223_row7_col6\" class=\"data row7 col6\" >5492.00</td>\n",
       "    </tr>\n",
       "    <tr>\n",
       "      <th id=\"T_37223_level0_row8\" class=\"row_heading level0 row8\" >ta</th>\n",
       "      <td id=\"T_37223_row8_col0\" class=\"data row8 col0\" >0.61</td>\n",
       "      <td id=\"T_37223_row8_col1\" class=\"data row8 col1\" >0.61</td>\n",
       "      <td id=\"T_37223_row8_col2\" class=\"data row8 col2\" >0.61</td>\n",
       "      <td id=\"T_37223_row8_col3\" class=\"data row8 col3\" >0.61</td>\n",
       "      <td id=\"T_37223_row8_col4\" class=\"data row8 col4\" >0.55</td>\n",
       "      <td id=\"T_37223_row8_col5\" class=\"data row8 col5\" >0.57</td>\n",
       "      <td id=\"T_37223_row8_col6\" class=\"data row8 col6\" >2654.00</td>\n",
       "    </tr>\n",
       "    <tr>\n",
       "      <th id=\"T_37223_level0_row9\" class=\"row_heading level0 row9\" >fa</th>\n",
       "      <td id=\"T_37223_row9_col0\" class=\"data row9 col0\" >0.85</td>\n",
       "      <td id=\"T_37223_row9_col1\" class=\"data row9 col1\" >0.85</td>\n",
       "      <td id=\"T_37223_row9_col2\" class=\"data row9 col2\" >0.85</td>\n",
       "      <td id=\"T_37223_row9_col3\" class=\"data row9 col3\" >0.78</td>\n",
       "      <td id=\"T_37223_row9_col4\" class=\"data row9 col4\" >0.77</td>\n",
       "      <td id=\"T_37223_row9_col5\" class=\"data row9 col5\" >0.77</td>\n",
       "      <td id=\"T_37223_row9_col6\" class=\"data row9 col6\" >510.00</td>\n",
       "    </tr>\n",
       "  </tbody>\n",
       "</table>\n"
      ],
      "text/plain": [
       "<pandas.io.formats.style.Styler at 0x2aaaec741ca0>"
      ]
     },
     "execution_count": 40,
     "metadata": {},
     "output_type": "execute_result"
    }
   ],
   "source": [
    "import pathlib\n",
    "import glob\n",
    "import json\n",
    "\n",
    "import dawg\n",
    "import tqdm\n",
    "import pandas as pd\n",
    "from sklearn.metrics import precision_recall_fscore_support\n",
    "\n",
    "ROOT = pathlib.Path('Mewsli-9')\n",
    "\n",
    "results = {}\n",
    "for file in tqdm.tqdm(list(ROOT.glob('*.tsv'))):\n",
    "    lang = file.stem\n",
    "    index = glob.glob(f'../wiki/{lang}wiki-*/index_{lang}wiki-*.dawg')[0]\n",
    "    wm = dawg.IntDAWG().load(index)\n",
    "    \n",
    "    cache = {}\n",
    "    def predict(sent, surface, wm):\n",
    "        ref = cache.setdefault(surface, wm.get( surface.replace(' ','_') ))\n",
    "        return ref or -1\n",
    "\n",
    "    surface, pred, gold = zip(*[\n",
    "        (surface, predict(text, surface, wm), ref)\n",
    "        for _, links, text in (l.split('\\t') for l in file.open())\n",
    "        for surface, ref in json.loads(links).items()\n",
    "    ])\n",
    "\n",
    "    res = pd.DataFrame({\n",
    "        avg: precision_recall_fscore_support(gold, pred, zero_division=0, average=avg)[:-1]\n",
    "        for avg in ['micro','macro']\n",
    "    }, index=['precision', 'recall', 'fscore']).unstack().T\n",
    "    res.loc[('', 'support')] = len(gold)\n",
    "    results[lang] = res\n",
    "\n",
    "(pd.DataFrame(results).T.sort_values(('','support'))[::-1]\n",
    " .style.bar(vmin=0, vmax=1, color='lightblue').format('{:.2f}')\n",
    " .set_caption('Wikipedia Page Name Baseline')\n",
    ")"
   ]
  },
  {
   "cell_type": "markdown",
   "id": "1a87c752-80b8-4d66-932d-d4e0663757f7",
   "metadata": {},
   "source": [
    "# Rank analysis"
   ]
  },
  {
   "cell_type": "code",
   "execution_count": 43,
   "id": "19bef9e7-e2b8-4324-9639-6452179f4db9",
   "metadata": {},
   "outputs": [
    {
     "name": "stderr",
     "output_type": "stream",
     "text": [
      "100%|█████████████████████████████████████████████████████████████████████████████████████████████████████████████████████████████████████████████████████████████████████████████████████████████████████████████████████████████████████████| 10/10 [02:01<00:00, 12.17s/it]\n"
     ]
    },
    {
     "data": {
      "text/plain": [
       "(9, 9)"
      ]
     },
     "execution_count": 43,
     "metadata": {},
     "output_type": "execute_result"
    }
   ],
   "source": [
    "import json, re, html, pathlib\n",
    "from collections import Counter\n",
    "\n",
    "import matplotlib.pyplot as plt\n",
    "\n",
    "from minimel.normalize import normalize, SNOWBALL_LANG\n",
    "code_lang = dict(SNOWBALL_LANG)\n",
    "code_lang['fa'] = 'Persian'\n",
    "code_lang['ja'] = 'Japanese'\n",
    "\n",
    "def rank(wm, counts, surface, i, stem=None):\n",
    "    for norm in normalize(surface, language=stem):\n",
    "        norm = norm.lower()\n",
    "        ent_count = counts.get(norm, {})\n",
    "        if len(ent_count) == 1 and ent_count.get('Q%s'%i):\n",
    "            return ent_count['Q%s'%i], -1\n",
    "        if ent_count.get('Q%s'%i):\n",
    "            order = sorted(ent_count, key=lambda x: -ent_count[x])\n",
    "            return ent_count['Q%s'%i], order.index('Q%s'%i)\n",
    "    if wm.get(surface.replace(' ','_')) == i:\n",
    "        return 1, -1\n",
    "    return 0, None\n",
    "\n",
    "total_counts = {}\n",
    "ranks = {}\n",
    "stem_ranks = {}\n",
    "for file in tqdm.tqdm(list(ROOT.glob('*.tsv'))):\n",
    "    lang = file.stem\n",
    "    # if lang not in ['ta','nl', 'tr']:\n",
    "    #     continue\n",
    "    index = glob.glob(f'../wiki/{lang}wiki-*/index_{lang}wiki-*.dawg')[0]\n",
    "    wm = dawg.IntDAWG().load(index)\n",
    "    \n",
    "    counttypes = []\n",
    "    \n",
    "    countfile = pathlib.Path(index).parent / 'count.min2.json'\n",
    "    if not countfile.exists():\n",
    "        continue\n",
    "    counts = json.load(open(countfile))\n",
    "    counttypes += [(counts, None, ranks)]\n",
    "    \n",
    "    stemfile = pathlib.Path(index).parent / f'count.min2.stem-{lang}.json'\n",
    "    if not stemfile.exists():\n",
    "        stemfile = pathlib.Path(index).parent / f'count.min2-stem.json'\n",
    "        if not stemfile.exists():\n",
    "            continue\n",
    "    counttypes += [(json.load(open(stemfile)), lang, stem_ranks)]\n",
    "    \n",
    "    total_counts[lang] = Counter()\n",
    "    for ec in counts.values():\n",
    "        for e,c in ec.items():\n",
    "            total_counts[lang][int(e.replace('Q',''))] += c\n",
    "    \n",
    "    for c, stem, r in counttypes:\n",
    "        r[lang] = pd.DataFrame([\n",
    "            (surface, ref, *rank(wm, c, surface, ref, stem=stem))\n",
    "            for _, links, text in (l.split('\\t') for l in file.open())\n",
    "            for surface, ref in json.loads(links).items()\n",
    "            if ref not in disambig\n",
    "        ], columns=['surface', 'ref', 'count', 'rank'])\n",
    "len(ranks), len(stem_ranks)"
   ]
  },
  {
   "cell_type": "code",
   "execution_count": 44,
   "id": "d3cce4c1-0261-429f-b75a-95e60eb863b7",
   "metadata": {},
   "outputs": [
    {
     "data": {
      "text/plain": [
       "<matplotlib.legend.Legend at 0x2aaaec768ca0>"
      ]
     },
     "execution_count": 44,
     "metadata": {},
     "output_type": "execute_result"
    },
    {
     "data": {
      "image/png": "[encoded data removed]",
      "text/plain": [
       "<Figure size 576x432 with 1 Axes>"
      ]
     },
     "metadata": {
      "needs_background": "light"
     },
     "output_type": "display_data"
    }
   ],
   "source": [
    "from matplotlib.legend_handler import HandlerTuple\n",
    "\n",
    "def cat(x):\n",
    "    return 'Unseen' if pd.isna(x) else ('Shadow' if x>0 else (' Top' if x==0 else '  Unambiguous'))\n",
    "\n",
    "fig, ax = plt.subplots(figsize=(8,6))\n",
    "pd.DataFrame({\n",
    "    code_lang.get(l,l).title():r['rank'].apply(cat).value_counts() / len(r)\n",
    "    for l,r in sorted(ranks.items(), key=lambda x: -len(x[1]))[::-1]\n",
    "}).sort_index().T.plot.barh(ax=ax, stacked=True, width=.4, position=0)\n",
    "x = pd.DataFrame({\n",
    "    code_lang.get(l,l).title():r['rank'].apply(cat).value_counts() / len(r)\n",
    "    for l,r in sorted(stem_ranks.items(), key=lambda x: -len(x[1]))[::-1]\n",
    "}).sort_index().T.plot.barh(ax=ax, stacked=True, width=.4, position=1, hatch='//')\n",
    "\n",
    "ax.spines['top'].set_visible(False)\n",
    "ax.spines['right'].set_visible(False)\n",
    "ax.spines['bottom'].set_visible(False)\n",
    "ax.spines['left'].set_visible(False)\n",
    "\n",
    "handles, labels = ax.get_legend_handles_labels()\n",
    "import matplotlib.patches as mpatches\n",
    "hatch = mpatches.Patch( facecolor='None', hatch=r'///', label='Stemmed')\n",
    "\n",
    "ax.set_ylim([-.5, len(ranks)-.5])\n",
    "ax.legend(\n",
    "    handles[:4] + [hatch], \n",
    "    [l.strip() for l in labels[:4]] + ['Stemmed'], \n",
    "    loc='upper left',\n",
    "    handlelength = 4,\n",
    "    # handler_map={tuple: HandlerTuple(ndivide=None)}\n",
    ")"
   ]
  },
  {
   "cell_type": "code",
   "execution_count": 110,
   "id": "30cd6225-5473-4fe3-8ea3-66d0aaa14413",
   "metadata": {},
   "outputs": [
    {
     "data": {
      "text/plain": [
       "<AxesSubplot:>"
      ]
     },
     "execution_count": 110,
     "metadata": {},
     "output_type": "execute_result"
    },
    {
     "data": {
      "image/png": "[encoded data removed]",
      "text/plain": [
       "<Figure size 432x288 with 1 Axes>"
      ]
     },
     "metadata": {
      "needs_background": "light"
     },
     "output_type": "display_data"
    }
   ],
   "source": [
    "pd.Series({code_lang.get(l,l).title():sum(c.values()) for l,c in sorted(total_counts.items())[::-1]}).plot.barh()"
   ]
  },
  {
   "cell_type": "markdown",
   "id": "b77cc326-0b2f-421e-bba8-ba4a17e89720",
   "metadata": {},
   "source": [
    "# Filtering Analysis"
   ]
  },
  {
   "cell_type": "code",
   "execution_count": 60,
   "id": "e41ccb6d-76b0-468d-a927-682ff3f3ca53",
   "metadata": {},
   "outputs": [
    {
     "name": "stderr",
     "output_type": "stream",
     "text": [
      "100%|█████████████████████████████████████████████████████████████████████████████████████████████████████████████████████████████████████████████████████████████████████████████████████████████████████████████████████████████████████████████████████████████████████████████████████████| 10/10 [00:34<00:00,  3.47s/it]\n"
     ]
    }
   ],
   "source": [
    "lang_cleancurves = {}\n",
    "for file in tqdm.tqdm(list(ROOT.glob('*.tsv'))):\n",
    "    lang = file.stem\n",
    "    cleans = glob.glob(f'../wiki/{lang}wiki-*/count.min2.clean*.json')\n",
    "    if cleans:\n",
    "        clean = sorted([pathlib.Path(f) for f in cleans], key=lambda x: -x.stat().st_size)[0]\n",
    "        surface_weight = json.load(open(clean))\n",
    "        clean_pairs_score = set(\n",
    "            (-v, s, int(k.replace('Q','')))\n",
    "            for s, kv in surface_weight.items()\n",
    "            for i, (k,v) in enumerate(kv.items())\n",
    "            if i > 0\n",
    "        )\n",
    "        test_pairs = set(\n",
    "            (norm, int(ref))\n",
    "            for surface, ref in ranks[lang][ranks[lang]['rank'] > 0][['surface','ref']].values\n",
    "            for norm in normalize(surface)\n",
    "        )\n",
    "        clean_in_test = [(s,r) in test_pairs for _, s, r in sorted(clean_pairs_score)]\n",
    "        tp = pd.Series(clean_in_test).cumsum()\n",
    "        precision = tp / (tp.index+1)\n",
    "        recall = tp / len(test_pairs)\n",
    "        lang_cleancurves[lang] = (precision, recall)"
   ]
  },
  {
   "cell_type": "code",
   "execution_count": 62,
   "id": "2cdc87e3-e129-431c-86ea-e53c06ea2036",
   "metadata": {},
   "outputs": [
    {
     "data": {
      "text/plain": [
       "[Text(0.5, 0, 'Filtered'), Text(0, 0.5, 'Recall')]"
      ]
     },
     "execution_count": 62,
     "metadata": {},
     "output_type": "execute_result"
    },
    {
     "data": {
      "image/png": "[encoded data removed]",
      "text/plain": [
       "<Figure size 864x576 with 1 Axes>"
      ]
     },
     "metadata": {
      "needs_background": "light"
     },
     "output_type": "display_data"
    }
   ],
   "source": [
    "import matplotlib.pyplot as plt\n",
    "fig, ax = plt.subplots(figsize=(12,8))\n",
    "for lang, (pr, re) in lang_cleancurves.items():\n",
    "    n = int(len(pr)/1000)\n",
    "    plt.plot(re.index[re.index % n == 0] / len(re), re[re.index % n == 0], label=lang)\n",
    "plt.legend()\n",
    "ax.set(xlabel='Filtered', ylabel='Recall')"
   ]
  },
  {
   "cell_type": "code",
   "execution_count": 102,
   "id": "88c4e4d6-8e3c-44e1-8ba1-efdc4094197a",
   "metadata": {},
   "outputs": [
    {
     "name": "stderr",
     "output_type": "stream",
     "text": [
      "  0%|                                                                                                                                                                                                                                                                                                  | 0/10 [00:00<?, ?it/s]"
     ]
    },
    {
     "name": "stdout",
     "output_type": "stream",
     "text": [
      "ar 1003805 117\n",
      "ar 0.25 19733 0.7350427350427351\n",
      "ar 0.5 36057 0.8461538461538461\n",
      "ar 1 68090 0.9914529914529915\n"
     ]
    },
    {
     "name": "stderr",
     "output_type": "stream",
     "text": [
      " 20%|████████████████████████████████████████████████████████▍                                                                                                                                                                                                                                 | 2/10 [00:05<00:20,  2.50s/it]"
     ]
    },
    {
     "name": "stdout",
     "output_type": "stream",
     "text": [
      "de 3111050 1755\n",
      "de 0.25 74209 0.6524216524216524\n",
      "de 0.5 136793 0.8005698005698005\n",
      "de 1 244401 0.9829059829059829\n"
     ]
    },
    {
     "name": "stderr",
     "output_type": "stream",
     "text": [
      " 30%|████████████████████████████████████████████████████████████████████████████████████▌                                                                                                                                                                                                     | 3/10 [00:20<00:56,  8.01s/it]"
     ]
    },
    {
     "name": "stdout",
     "output_type": "stream",
     "text": [
      "es 1853825 2289\n",
      "es 0.25 45186 0.7518567059851463\n",
      "es 0.5 80662 0.8680646570554827\n",
      "es 1 148661 0.9925731760594146\n"
     ]
    },
    {
     "name": "stderr",
     "output_type": "stream",
     "text": [
      " 40%|████████████████████████████████████████████████████████████████████████████████████████████████████████████████▊                                                                                                                                                                         | 4/10 [00:31<00:54,  9.05s/it]"
     ]
    },
    {
     "name": "stdout",
     "output_type": "stream",
     "text": [
      "fa 635191 20\n",
      "fa 0.25 12389 0.85\n",
      "fa 0.5 21369 0.95\n",
      "fa 1 40784 1.0\n"
     ]
    },
    {
     "name": "stderr",
     "output_type": "stream",
     "text": [
      " 50%|█████████████████████████████████████████████████████████████████████████████████████████████████████████████████████████████████████████████                                                                                                                                             | 5/10 [00:35<00:35,  7.14s/it]"
     ]
    },
    {
     "name": "stdout",
     "output_type": "stream",
     "text": [
      "ja 1770910 1280\n",
      "ja 0.25 33959 0.6734375\n",
      "ja 0.5 62368 0.79765625\n",
      "ja 1 116013 0.92890625\n"
     ]
    },
    {
     "name": "stderr",
     "output_type": "stream",
     "text": [
      " 60%|█████████████████████████████████████████████████████████████████████████████████████████████████████████████████████████████████████████████████████████████████████████▏                                                                                                                | 6/10 [00:43<00:30,  7.62s/it]"
     ]
    },
    {
     "name": "stdout",
     "output_type": "stream",
     "text": [
      "sr 441021 501\n",
      "sr 0.25 20154 0.8303393213572854\n",
      "sr 0.5 29876 0.8622754491017964\n",
      "sr 1 50850 0.998003992015968\n"
     ]
    },
    {
     "name": "stderr",
     "output_type": "stream",
     "text": [
      " 70%|█████████████████████████████████████████████████████████████████████████████████████████████████████████████████████████████████████████████████████████████████████████████████████████████████████▍                                                                                    | 7/10 [00:46<00:18,  6.19s/it]"
     ]
    },
    {
     "name": "stdout",
     "output_type": "stream",
     "text": [
      "ta 113272 21\n"
     ]
    },
    {
     "name": "stderr",
     "output_type": "stream",
     "text": [
      " 80%|█████████████████████████████████████████████████████████████████████████████████████████████████████████████████████████████████████████████████████████████████████████████████████████████████████████████████████████████████▌                                                        | 8/10 [00:47<00:08,  4.42s/it]"
     ]
    },
    {
     "name": "stdout",
     "output_type": "stream",
     "text": [
      "ta 0.25 1833 0.6666666666666666\n",
      "ta 0.5 3434 0.8095238095238095\n",
      "ta 1 6584 0.9523809523809523\n",
      "tr 381905 162\n",
      "tr 0.25 6986 0.8950617283950617\n",
      "tr 0.5 12826 0.9444444444444444\n"
     ]
    },
    {
     "name": "stderr",
     "output_type": "stream",
     "text": [
      " 90%|█████████████████████████████████████████████████████████████████████████████████████████████████████████████████████████████████████████████████████████████████████████████████████████████████████████████████████████████████████████████████████████████▊                            | 9/10 [00:48<00:03,  3.49s/it]"
     ]
    },
    {
     "name": "stdout",
     "output_type": "stream",
     "text": [
      "tr 1 23326 0.9876543209876543\n",
      "nl 1293079 544\n",
      "nl 0.25 30472 0.7426470588235294\n",
      "nl 0.5 56249 0.8455882352941176\n",
      "nl 1 100134 0.9926470588235294\n"
     ]
    },
    {
     "name": "stderr",
     "output_type": "stream",
     "text": [
      "100%|█████████████████████████████████████████████████████████████████████████████████████████████████████████████████████████████████████████████████████████████████████████████████████████████████████████████████████████████████████████████████████████████████████████████████████████| 10/10 [00:54<00:00,  5.48s/it]\n"
     ]
    }
   ],
   "source": [
    "lang_cleancurves = {}\n",
    "for file in tqdm.tqdm(list(ROOT.glob('*.tsv'))):\n",
    "    lang = file.stem\n",
    "    cleans = glob.glob(f'../wiki/{lang}wiki-*/count.min2.clean*.json')\n",
    "    if cleans:\n",
    "        clean = sorted([pathlib.Path(f) for f in cleans], key=lambda x: -x.stat().st_size)[0]\n",
    "        surface_weight = json.load(open(clean))\n",
    "        \n",
    "        test_pairs = set(\n",
    "            (norm, int(ref))\n",
    "            for surface, ref in ranks[lang][ranks[lang]['rank'] > 0][['surface','ref']].values\n",
    "            for norm in normalize(surface)\n",
    "        )\n",
    "\n",
    "        print(lang, len(surface_weight), len(test_pairs))\n",
    "\n",
    "        surface_top = {s:sorted(kv.items(), key=lambda x: -x[1])[0] for s, kv in surface_weight.items()}\n",
    "        count_pairs = sorted(((c, n, e) for n, kv in surface_weight.items() if len(kv) > 1 for e, c in list(kv.items())[1:] ))[::-1]\n",
    "\n",
    "        for frac in [.25, .5, 1]:\n",
    "            limit = int(len(count_pairs) * frac)\n",
    "            new_surface_weight = {}\n",
    "            for c,n,e in count_pairs[:limit]:\n",
    "                new_surface_weight.setdefault(n, dict([surface_top[n]]))[e] = c\n",
    "            print(lang, frac, len(new_surface_weight), sum(1 for n,e in test_pairs if new_surface_weight.get(n, {}).get(str(e))) / len(test_pairs))\n",
    "            with open(f'../wiki/{lang}wiki-20220301/experiments/clean-q{frac}.json', 'w') as fw:\n",
    "                json.dump(new_surface_weight, fw)"
   ]
  },
  {
   "cell_type": "code",
   "execution_count": 23,
   "id": "1ad5ad7e-a655-42c8-bcde-33b7c5a3b038",
   "metadata": {},
   "outputs": [],
   "source": [
    "lang = 'nl'\n",
    "r = ranks[lang]"
   ]
  },
  {
   "cell_type": "code",
   "execution_count": 31,
   "id": "0c641d76-c219-44ec-b504-472753ccadab",
   "metadata": {
    "tags": []
   },
   "outputs": [
    {
     "ename": "KeyError",
     "evalue": "'count'",
     "output_type": "error",
     "traceback": [
      "\u001b[0;31m---------------------------------------------------------------------------\u001b[0m",
      "\u001b[0;31mKeyError\u001b[0m                                  Traceback (most recent call last)",
      "\u001b[0;32m/tmp/ipykernel_26943/1300757868.py\u001b[0m in \u001b[0;36m<module>\u001b[0;34m\u001b[0m\n\u001b[1;32m      1\u001b[0m \u001b[0;31m# Unseen\u001b[0m\u001b[0;34m\u001b[0m\u001b[0;34m\u001b[0m\u001b[0m\n\u001b[0;32m----> 2\u001b[0;31m \u001b[0mr\u001b[0m\u001b[0;34m[\u001b[0m\u001b[0mr\u001b[0m\u001b[0;34m[\u001b[0m\u001b[0;34m'count'\u001b[0m\u001b[0;34m]\u001b[0m \u001b[0;34m==\u001b[0m \u001b[0;36m0\u001b[0m\u001b[0;34m]\u001b[0m\u001b[0;34m.\u001b[0m\u001b[0mfillna\u001b[0m\u001b[0;34m(\u001b[0m\u001b[0;34m-\u001b[0m\u001b[0;36m1\u001b[0m\u001b[0;34m)\u001b[0m\u001b[0;34m.\u001b[0m\u001b[0mvalue_counts\u001b[0m\u001b[0;34m(\u001b[0m\u001b[0;34m)\u001b[0m\u001b[0;34m.\u001b[0m\u001b[0mrename\u001b[0m\u001b[0;34m(\u001b[0m\u001b[0;34m'test_count'\u001b[0m\u001b[0;34m)\u001b[0m\u001b[0;34m.\u001b[0m\u001b[0mreset_index\u001b[0m\u001b[0;34m(\u001b[0m\u001b[0;34m)\u001b[0m\u001b[0;34m.\u001b[0m\u001b[0mhead\u001b[0m\u001b[0;34m(\u001b[0m\u001b[0;36m20\u001b[0m\u001b[0;34m)\u001b[0m\u001b[0;34m\u001b[0m\u001b[0;34m\u001b[0m\u001b[0m\n\u001b[0m",
      "\u001b[0;31mKeyError\u001b[0m: 'count'"
     ]
    }
   ],
   "source": [
    "# Unseen\n",
    "r[r['count'] == 0].fillna(-1).value_counts().rename('test_count').reset_index().head(20)"
   ]
  },
  {
   "cell_type": "code",
   "execution_count": 14,
   "id": "3d463c78-5bff-48d2-adfb-ebdab310c32b",
   "metadata": {},
   "outputs": [
    {
     "data": {
      "text/html": [
       "<div>\n",
       "<style scoped>\n",
       "    .dataframe tbody tr th:only-of-type {\n",
       "        vertical-align: middle;\n",
       "    }\n",
       "\n",
       "    .dataframe tbody tr th {\n",
       "        vertical-align: top;\n",
       "    }\n",
       "\n",
       "    .dataframe thead th {\n",
       "        text-align: right;\n",
       "    }\n",
       "</style>\n",
       "<table border=\"1\" class=\"dataframe\">\n",
       "  <thead>\n",
       "    <tr style=\"text-align: right;\">\n",
       "      <th></th>\n",
       "      <th>surface</th>\n",
       "      <th>ref</th>\n",
       "      <th>count</th>\n",
       "      <th>rank</th>\n",
       "      <th>0</th>\n",
       "    </tr>\n",
       "  </thead>\n",
       "  <tbody>\n",
       "    <tr>\n",
       "      <th>0</th>\n",
       "      <td>May</td>\n",
       "      <td>264766</td>\n",
       "      <td>15</td>\n",
       "      <td>2.0</td>\n",
       "      <td>6</td>\n",
       "    </tr>\n",
       "    <tr>\n",
       "      <th>1</th>\n",
       "      <td>Openbaar Ministerie</td>\n",
       "      <td>11775750</td>\n",
       "      <td>312</td>\n",
       "      <td>1.0</td>\n",
       "      <td>6</td>\n",
       "    </tr>\n",
       "    <tr>\n",
       "      <th>2</th>\n",
       "      <td>Washington</td>\n",
       "      <td>61</td>\n",
       "      <td>1112</td>\n",
       "      <td>1.0</td>\n",
       "      <td>5</td>\n",
       "    </tr>\n",
       "    <tr>\n",
       "      <th>3</th>\n",
       "      <td>ESM</td>\n",
       "      <td>1130098</td>\n",
       "      <td>30</td>\n",
       "      <td>1.0</td>\n",
       "      <td>5</td>\n",
       "    </tr>\n",
       "    <tr>\n",
       "      <th>4</th>\n",
       "      <td>China</td>\n",
       "      <td>148</td>\n",
       "      <td>6406</td>\n",
       "      <td>1.0</td>\n",
       "      <td>5</td>\n",
       "    </tr>\n",
       "    <tr>\n",
       "      <th>5</th>\n",
       "      <td>Peter Madsen</td>\n",
       "      <td>2076849</td>\n",
       "      <td>10</td>\n",
       "      <td>1.0</td>\n",
       "      <td>5</td>\n",
       "    </tr>\n",
       "    <tr>\n",
       "      <th>6</th>\n",
       "      <td>Amerikaanse presidentsverkiezingen</td>\n",
       "      <td>699872</td>\n",
       "      <td>17</td>\n",
       "      <td>2.0</td>\n",
       "      <td>5</td>\n",
       "    </tr>\n",
       "    <tr>\n",
       "      <th>7</th>\n",
       "      <td>NPS</td>\n",
       "      <td>2564279</td>\n",
       "      <td>201</td>\n",
       "      <td>1.0</td>\n",
       "      <td>4</td>\n",
       "    </tr>\n",
       "    <tr>\n",
       "      <th>8</th>\n",
       "      <td>Groningen</td>\n",
       "      <td>752</td>\n",
       "      <td>6298</td>\n",
       "      <td>1.0</td>\n",
       "      <td>4</td>\n",
       "    </tr>\n",
       "    <tr>\n",
       "      <th>9</th>\n",
       "      <td>burgeroorlog</td>\n",
       "      <td>19686631</td>\n",
       "      <td>7</td>\n",
       "      <td>15.0</td>\n",
       "      <td>4</td>\n",
       "    </tr>\n",
       "    <tr>\n",
       "      <th>10</th>\n",
       "      <td>Senaat</td>\n",
       "      <td>66096</td>\n",
       "      <td>613</td>\n",
       "      <td>2.0</td>\n",
       "      <td>4</td>\n",
       "    </tr>\n",
       "    <tr>\n",
       "      <th>11</th>\n",
       "      <td>Daniel Martin</td>\n",
       "      <td>410678</td>\n",
       "      <td>3</td>\n",
       "      <td>1.0</td>\n",
       "      <td>4</td>\n",
       "    </tr>\n",
       "    <tr>\n",
       "      <th>12</th>\n",
       "      <td>Rabobank</td>\n",
       "      <td>252004</td>\n",
       "      <td>418</td>\n",
       "      <td>1.0</td>\n",
       "      <td>4</td>\n",
       "    </tr>\n",
       "    <tr>\n",
       "      <th>13</th>\n",
       "      <td>Belastingdienst</td>\n",
       "      <td>2793644</td>\n",
       "      <td>168</td>\n",
       "      <td>1.0</td>\n",
       "      <td>4</td>\n",
       "    </tr>\n",
       "    <tr>\n",
       "      <th>14</th>\n",
       "      <td>Arriva</td>\n",
       "      <td>680991</td>\n",
       "      <td>245</td>\n",
       "      <td>1.0</td>\n",
       "      <td>4</td>\n",
       "    </tr>\n",
       "    <tr>\n",
       "      <th>15</th>\n",
       "      <td>Clinton</td>\n",
       "      <td>6294</td>\n",
       "      <td>7</td>\n",
       "      <td>25.0</td>\n",
       "      <td>4</td>\n",
       "    </tr>\n",
       "    <tr>\n",
       "      <th>16</th>\n",
       "      <td>Sint-Maarten</td>\n",
       "      <td>26273</td>\n",
       "      <td>26</td>\n",
       "      <td>4.0</td>\n",
       "      <td>3</td>\n",
       "    </tr>\n",
       "    <tr>\n",
       "      <th>17</th>\n",
       "      <td>Duitsland</td>\n",
       "      <td>43310</td>\n",
       "      <td>1235</td>\n",
       "      <td>1.0</td>\n",
       "      <td>3</td>\n",
       "    </tr>\n",
       "    <tr>\n",
       "      <th>18</th>\n",
       "      <td>Wiebes</td>\n",
       "      <td>2065985</td>\n",
       "      <td>8</td>\n",
       "      <td>1.0</td>\n",
       "      <td>3</td>\n",
       "    </tr>\n",
       "    <tr>\n",
       "      <th>19</th>\n",
       "      <td>Telegram</td>\n",
       "      <td>15616276</td>\n",
       "      <td>52</td>\n",
       "      <td>1.0</td>\n",
       "      <td>3</td>\n",
       "    </tr>\n",
       "  </tbody>\n",
       "</table>\n",
       "</div>"
      ],
      "text/plain": [
       "                               surface       ref  count  rank  0\n",
       "0                                  May    264766     15   2.0  6\n",
       "1                  Openbaar Ministerie  11775750    312   1.0  6\n",
       "2                           Washington        61   1112   1.0  5\n",
       "3                                  ESM   1130098     30   1.0  5\n",
       "4                                China       148   6406   1.0  5\n",
       "5                         Peter Madsen   2076849     10   1.0  5\n",
       "6   Amerikaanse presidentsverkiezingen    699872     17   2.0  5\n",
       "7                                  NPS   2564279    201   1.0  4\n",
       "8                            Groningen       752   6298   1.0  4\n",
       "9                         burgeroorlog  19686631      7  15.0  4\n",
       "10                              Senaat     66096    613   2.0  4\n",
       "11                       Daniel Martin    410678      3   1.0  4\n",
       "12                            Rabobank    252004    418   1.0  4\n",
       "13                     Belastingdienst   2793644    168   1.0  4\n",
       "14                              Arriva    680991    245   1.0  4\n",
       "15                             Clinton      6294      7  25.0  4\n",
       "16                        Sint-Maarten     26273     26   4.0  3\n",
       "17                           Duitsland     43310   1235   1.0  3\n",
       "18                              Wiebes   2065985      8   1.0  3\n",
       "19                            Telegram  15616276     52   1.0  3"
      ]
     },
     "execution_count": 14,
     "metadata": {},
     "output_type": "execute_result"
    }
   ],
   "source": [
    "# Shadow\n",
    "r[r['rank'] > 0].fillna(-1).value_counts().rename('test_count').reset_index().head(20)"
   ]
  },
  {
   "cell_type": "code",
   "execution_count": 15,
   "id": "d2e783d3-b9ea-4bfa-890d-6a5559fc4c71",
   "metadata": {},
   "outputs": [
    {
     "data": {
      "text/plain": [
       "<AxesSubplot:>"
      ]
     },
     "execution_count": 15,
     "metadata": {},
     "output_type": "execute_result"
    },
    {
     "data": {
      "image/png": "[encoded data removed]",
      "text/plain": [
       "<Figure size 432x288 with 1 Axes>"
      ]
     },
     "metadata": {
      "needs_background": "light"
     },
     "output_type": "display_data"
    }
   ],
   "source": [
    "r['rank'].value_counts().head(7).plot.bar(logy=True, ylim=[1, r['rank'].value_counts().max()*2])"
   ]
  },
  {
   "cell_type": "code",
   "execution_count": 16,
   "id": "c13f1b33-29ce-4a3e-9fd2-d0e73a63cd6c",
   "metadata": {},
   "outputs": [
    {
     "data": {
      "text/plain": [
       "1146616"
      ]
     },
     "execution_count": 16,
     "metadata": {},
     "output_type": "execute_result"
    }
   ],
   "source": [
    "len(total_counts['nl'])"
   ]
  },
  {
   "cell_type": "code",
   "execution_count": 17,
   "id": "ecf96afa-283a-4164-9dc2-485eef55c5b9",
   "metadata": {},
   "outputs": [],
   "source": [
    "count = json.load(open('../wiki/nlwiki-20220301/count.min2.json'))"
   ]
  },
  {
   "cell_type": "code",
   "execution_count": 18,
   "id": "663728e0-9564-404e-96aa-47857121e76f",
   "metadata": {},
   "outputs": [
    {
     "name": "stdout",
     "output_type": "stream",
     "text": [
      "18549 clean candidates\n",
      "shadowed: 544 214\n",
      "     top: 2001 459\n"
     ]
    },
    {
     "data": {
      "text/html": [
       "<div>\n",
       "<style scoped>\n",
       "    .dataframe tbody tr th:only-of-type {\n",
       "        vertical-align: middle;\n",
       "    }\n",
       "\n",
       "    .dataframe tbody tr th {\n",
       "        vertical-align: top;\n",
       "    }\n",
       "\n",
       "    .dataframe thead th {\n",
       "        text-align: right;\n",
       "    }\n",
       "</style>\n",
       "<table border=\"1\" class=\"dataframe\">\n",
       "  <thead>\n",
       "    <tr style=\"text-align: right;\">\n",
       "      <th></th>\n",
       "      <th>s</th>\n",
       "      <th>e</th>\n",
       "      <th>c</th>\n",
       "    </tr>\n",
       "  </thead>\n",
       "  <tbody>\n",
       "    <tr>\n",
       "      <th>314</th>\n",
       "      <td>groningen</td>\n",
       "      <td>17937</td>\n",
       "      <td>266</td>\n",
       "    </tr>\n",
       "    <tr>\n",
       "      <th>123</th>\n",
       "      <td>leeuwarden</td>\n",
       "      <td>17944</td>\n",
       "      <td>184</td>\n",
       "    </tr>\n",
       "    <tr>\n",
       "      <th>228</th>\n",
       "      <td>lijk</td>\n",
       "      <td>48422</td>\n",
       "      <td>173</td>\n",
       "    </tr>\n",
       "    <tr>\n",
       "      <th>161</th>\n",
       "      <td>zeeland</td>\n",
       "      <td>2262442</td>\n",
       "      <td>160</td>\n",
       "    </tr>\n",
       "    <tr>\n",
       "      <th>277</th>\n",
       "      <td>netwerk</td>\n",
       "      <td>2415677</td>\n",
       "      <td>150</td>\n",
       "    </tr>\n",
       "    <tr>\n",
       "      <th>...</th>\n",
       "      <td>...</td>\n",
       "      <td>...</td>\n",
       "      <td>...</td>\n",
       "    </tr>\n",
       "    <tr>\n",
       "      <th>107</th>\n",
       "      <td>genderneutraliteit</td>\n",
       "      <td>1404524</td>\n",
       "      <td>2</td>\n",
       "    </tr>\n",
       "    <tr>\n",
       "      <th>101</th>\n",
       "      <td>sanders</td>\n",
       "      <td>359442</td>\n",
       "      <td>2</td>\n",
       "    </tr>\n",
       "    <tr>\n",
       "      <th>90</th>\n",
       "      <td>a7</td>\n",
       "      <td>1814381</td>\n",
       "      <td>2</td>\n",
       "    </tr>\n",
       "    <tr>\n",
       "      <th>65</th>\n",
       "      <td>sociaal-democraten</td>\n",
       "      <td>49768</td>\n",
       "      <td>2</td>\n",
       "    </tr>\n",
       "    <tr>\n",
       "      <th>0</th>\n",
       "      <td>verkiezingen van 1992</td>\n",
       "      <td>699776</td>\n",
       "      <td>2</td>\n",
       "    </tr>\n",
       "  </tbody>\n",
       "</table>\n",
       "<p>330 rows × 3 columns</p>\n",
       "</div>"
      ],
      "text/plain": [
       "                         s        e    c\n",
       "314              groningen    17937  266\n",
       "123             leeuwarden    17944  184\n",
       "228                   lijk    48422  173\n",
       "161                zeeland  2262442  160\n",
       "277                netwerk  2415677  150\n",
       "..                     ...      ...  ...\n",
       "107     genderneutraliteit  1404524    2\n",
       "101                sanders   359442    2\n",
       "90                      a7  1814381    2\n",
       "65      sociaal-democraten    49768    2\n",
       "0    verkiezingen van 1992   699776    2\n",
       "\n",
       "[330 rows x 3 columns]"
      ]
     },
     "execution_count": 18,
     "metadata": {},
     "output_type": "execute_result"
    }
   ],
   "source": [
    "clean = json.load(open('../wiki/nlwiki-20220301/count.min2.clean8549.json'))\n",
    "cleans = set([(k,int(v.replace('Q',''))) for k, vs in clean.items() for v in vs])\n",
    "shadows = set([(n,e) for s,e in r[r['rank'] > 0][['surface','ref']].values for n in normalize(s)])\n",
    "tops = set([(n,e) for s,e in r[r['rank'] == 0][['surface','ref']].values for n in normalize(s)])\n",
    "print(len(cleans), 'clean candidates')\n",
    "print( 'shadowed:', len(shadows), len(shadows & cleans) )\n",
    "print( '     top:', len(tops), len(tops & cleans) )\n",
    "pd.DataFrame([(s,e, count[s][f'Q{e}']) for s,e in shadows - cleans], columns=['s','e','c']).sort_values('c')[::-1]"
   ]
  },
  {
   "cell_type": "code",
   "execution_count": 19,
   "id": "cd6e4e56-1962-40da-bf41-f2b37ace8d2f",
   "metadata": {},
   "outputs": [
    {
     "data": {
      "text/plain": [
       "{'Q264766': 15,\n",
       " 'Q14641679': 8,\n",
       " 'Q1860083': 8,\n",
       " 'Q2453332': 2,\n",
       " 'Q6796582': 11,\n",
       " 'Q226158': 2,\n",
       " 'Q1287363': 12,\n",
       " 'Q648417': 23,\n",
       " 'Q449758': 3,\n",
       " 'Q2390046': 6,\n",
       " 'Q15873': 79}"
      ]
     },
     "execution_count": 19,
     "metadata": {},
     "output_type": "execute_result"
    }
   ],
   "source": [
    "count['may']"
   ]
  },
  {
   "cell_type": "code",
   "execution_count": 20,
   "id": "2df9d2ee-07a4-4afe-ab2d-7c3098df19df",
   "metadata": {},
   "outputs": [
    {
     "ename": "KeyError",
     "evalue": "'may'",
     "output_type": "error",
     "traceback": [
      "\u001b[0;31m---------------------------------------------------------------------------\u001b[0m",
      "\u001b[0;31mKeyError\u001b[0m                                  Traceback (most recent call last)",
      "\u001b[0;32m/tmp/ipykernel_16560/2389574436.py\u001b[0m in \u001b[0;36m<module>\u001b[0;34m\u001b[0m\n\u001b[0;32m----> 1\u001b[0;31m \u001b[0mclean\u001b[0m\u001b[0;34m[\u001b[0m\u001b[0;34m'may'\u001b[0m\u001b[0;34m]\u001b[0m\u001b[0;34m\u001b[0m\u001b[0;34m\u001b[0m\u001b[0m\n\u001b[0m",
      "\u001b[0;31mKeyError\u001b[0m: 'may'"
     ]
    }
   ],
   "source": [
    "clean['may']"
   ]
  },
  {
   "cell_type": "code",
   "execution_count": 38,
   "id": "aacde4da-ad84-4be5-83f5-00b612be0ab3",
   "metadata": {},
   "outputs": [
    {
     "data": {
      "text/plain": [
       "<matplotlib.legend.Legend at 0x2aaaeb06ea90>"
      ]
     },
     "execution_count": 38,
     "metadata": {},
     "output_type": "execute_result"
    },
    {
     "data": {
      "image/png": "[encoded data removed]",
      "text/plain": [
       "<Figure size 576x432 with 1 Axes>"
      ]
     },
     "metadata": {
      "needs_background": "light"
     },
     "output_type": "display_data"
    }
   ],
   "source": [
    "from numpy import log10\n",
    "def freq_bins(l, r):\n",
    "    return (\n",
    "        r.merge(pd.Series(total_counts[l]).rename('total'), left_on='ref', right_index=True, how='left')['total'].fillna(1)\n",
    "        .apply(lambda x: f'$10^{int(log10(x))}$-$10^{int(log10(x)+1)}$').value_counts()\n",
    "    )\n",
    "ax = pd.DataFrame({\n",
    "    code_lang.get(l,l).title():freq_bins(l, ranks[l]) / len(ranks[l])\n",
    "    for l in sorted(ranks, key=lambda l: len(ranks[l]))\n",
    "})[::-1].T.plot.barh(stacked=True, figsize=(8,6))\n",
    "\n",
    "ax.set_xlabel('Proportion')\n",
    "\n",
    "import matplotlib.pyplot as plt\n",
    "plt.legend(loc='center left', bbox_to_anchor=(1, 0.5), title='Frequency')"
   ]
  },
  {
   "cell_type": "code",
   "execution_count": null,
   "id": "624561e7-de62-415a-96d0-6c1da50bc44f",
   "metadata": {},
   "outputs": [],
   "source": []
  }
 ],
 "metadata": {
  "kernelspec": {
   "display_name": "Python 3 (ipykernel)",
   "language": "python",
   "name": "python3"
  },
  "language_info": {
   "codemirror_mode": {
    "name": "ipython",
    "version": 3
   },
   "file_extension": ".py",
   "mimetype": "text/x-python",
   "name": "python",
   "nbconvert_exporter": "python",
   "pygments_lexer": "ipython3",
   "version": "3.9.7"
  }
 },
 "nbformat": 4,
 "nbformat_minor": 5
}
